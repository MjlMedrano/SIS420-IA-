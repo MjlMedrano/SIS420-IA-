{
  "nbformat": 4,
  "nbformat_minor": 0,
  "metadata": {
    "colab": {
      "provenance": []
    },
    "kernelspec": {
      "name": "python3",
      "display_name": "Python 3"
    },
    "language_info": {
      "name": "python"
    }
  },
  "cells": [
    {
      "cell_type": "markdown",
      "source": [
        "# Ejercicio de programación Regresión Lineal\n",
        "En esta regresión lineal estamos utilizando el dataset \"Gold Price Regression\", cuyo propósito es estimar el valor del oro a partir de variables relacionadas con el índice bursátil S&P 500.\n",
        "\n",
        "Para ello, hemos seleccionado específicamente las columnas:\n",
        "\n",
        "S&P500 Open: el valor de apertura del índice S&P 500 en una sesión de mercado.\n",
        "\n",
        "S&P500 Close: el valor de cierre del mismo índice en esa sesión.\n",
        "\n",
        "La lógica detrás de esta elección es que el precio del oro está fuertemente influenciado por el desempeño de los mercados financieros. El S&P 500, al ser uno de los índices más representativos de la economía de Estados Unidos, refleja el comportamiento agregado de las principales empresas estadounidenses."
      ],
      "metadata": {
        "id": "MkGBQVGBunIE"
      }
    },
    {
      "cell_type": "code",
      "execution_count": null,
      "metadata": {
        "id": "sBjzF-2K9sho"
      },
      "outputs": [],
      "source": [
        "# utilizado para manejos de directorios y rutas / maneja las carpetas\n",
        "import os\n",
        "\n",
        "# Computacion vectorial y cientifica para python /ayuda a calcular arrays matrices as (alias)\n",
        "import numpy as np\n",
        "import pandas as pd\n",
        "# Librerias para graficación (trazado de gráficos) graficos 2d\n",
        "from matplotlib import pyplot\n",
        "from mpl_toolkits.mplot3d import Axes3D  # Necesario para graficar superficies 3D\n",
        "\n",
        "# llama a matplotlib a embeber graficas dentro de los cuadernillos\n",
        "%matplotlib inline"
      ]
    },
    {
      "cell_type": "code",
      "source": [
        "from google.colab import drive\n",
        "drive.mount('/content/drive')"
      ],
      "metadata": {
        "colab": {
          "base_uri": "https://localhost:8080/"
        },
        "id": "HqyvZBzH93JR",
        "outputId": "3139dd3c-9dc3-4aac-f3c9-9641b414aadf"
      },
      "execution_count": null,
      "outputs": [
        {
          "output_type": "stream",
          "name": "stdout",
          "text": [
            "Drive already mounted at /content/drive; to attempt to forcibly remount, call drive.mount(\"/content/drive\", force_remount=True).\n"
          ]
        }
      ]
    },
    {
      "cell_type": "code",
      "source": [
        "# Leer datos separados por una coma\n",
        "# data = np.loadtxt('ex1data1.txt', delimiter=',')\n",
        "# data = np.loadtxt(os.path.join('data', 'ex1data1.txt'), delimiter=',')\n",
        "datas = pd.read_csv('/content/drive/MyDrive/IA/financial_regression.csv')\n",
        "data = datas[['sp500 open', 'sp500 close']].dropna()\n",
        "X = data['sp500 open'].values   # primera columna\n",
        "y = data['sp500 close'].values   # segunda columna\n",
        "m = y.size\n"
      ],
      "metadata": {
        "id": "jm2V7o7b96Aw"
      },
      "execution_count": null,
      "outputs": []
    },
    {
      "cell_type": "code",
      "source": [
        "print(X)"
      ],
      "metadata": {
        "colab": {
          "base_uri": "https://localhost:8080/"
        },
        "id": "1fFm3be6BDKm",
        "outputId": "49cd389f-1c1b-4ee7-8efd-09a18c73c59a"
      },
      "execution_count": null,
      "outputs": [
        {
          "output_type": "stream",
          "name": "stdout",
          "text": [
            "[114.49 114.73 113.62 ... 583.85 581.05 581.26]\n"
          ]
        }
      ]
    },
    {
      "cell_type": "code",
      "source": [
        "print(y)"
      ],
      "metadata": {
        "colab": {
          "base_uri": "https://localhost:8080/"
        },
        "id": "by4BrZewB3wk",
        "outputId": "08197018-fbcd-4bb4-9c21-97e62f9bfb61"
      },
      "execution_count": null,
      "outputs": [
        {
          "output_type": "stream",
          "name": "stdout",
          "text": [
            "[114.93 113.64 115.06 ... 583.63 583.32 577.99]\n"
          ]
        }
      ]
    },
    {
      "cell_type": "code",
      "source": [
        "print(X.size)"
      ],
      "metadata": {
        "colab": {
          "base_uri": "https://localhost:8080/"
        },
        "id": "Vl8dfFLJDjdz",
        "outputId": "30343a65-d873-4953-9d0f-8ba32f7805aa"
      },
      "execution_count": null,
      "outputs": [
        {
          "output_type": "stream",
          "name": "stdout",
          "text": [
            "3719\n"
          ]
        }
      ]
    },
    {
      "cell_type": "code",
      "source": [
        "datas.head()"
      ],
      "metadata": {
        "colab": {
          "base_uri": "https://localhost:8080/",
          "height": 357
        },
        "id": "X40zs8oMJCE-",
        "outputId": "38a6e001-ff31-4fb5-b0fc-e91be61517a0"
      },
      "execution_count": null,
      "outputs": [
        {
          "output_type": "execute_result",
          "data": {
            "text/plain": [
              "         date  sp500 open  sp500 high  sp500 low  sp500 close  sp500 volume  \\\n",
              "0  2010-01-14      114.49      115.14     114.42       114.93   115646960.0   \n",
              "1  2010-01-15      114.73      114.84     113.20       113.64   212252769.0   \n",
              "2  2010-01-18         NaN         NaN        NaN          NaN           NaN   \n",
              "3  2010-01-19      113.62      115.13     113.59       115.06   138671890.0   \n",
              "4  2010-01-20      114.28      114.45     112.98       113.89   216330645.0   \n",
              "\n",
              "   sp500 high-low  nasdaq open  nasdaq high  nasdaq low  ...  palladium high  \\\n",
              "0            0.72        46.26       46.520       46.22  ...           45.02   \n",
              "1            1.64        46.46       46.550       45.65  ...           45.76   \n",
              "2             NaN          NaN          NaN         NaN  ...             NaN   \n",
              "3            1.54        45.96       46.640       45.95  ...           47.08   \n",
              "4            1.47        46.27       46.604       45.43  ...           47.31   \n",
              "\n",
              "   palladium low  palladium close  palladium volume  palladium high-low  \\\n",
              "0          43.86            44.84          364528.0                1.16   \n",
              "1          44.40            45.76          442210.0                1.36   \n",
              "2            NaN              NaN               NaN                 NaN   \n",
              "3          45.70            46.94          629150.0                1.38   \n",
              "4          45.17            47.05          643198.0                2.14   \n",
              "\n",
              "   gold open  gold high  gold low  gold close  gold volume  \n",
              "0     111.51     112.37    110.79      112.03   18305238.0  \n",
              "1     111.35     112.01    110.38      110.86   18000724.0  \n",
              "2        NaN        NaN       NaN         NaN          NaN  \n",
              "3     110.95     111.75    110.83      111.52   10467927.0  \n",
              "4     109.97     110.05    108.46      108.94   17534231.0  \n",
              "\n",
              "[5 rows x 47 columns]"
            ],
            "text/html": [
              "\n",
              "  <div id=\"df-eec84d9c-c081-484b-8767-916ab3952278\" class=\"colab-df-container\">\n",
              "    <div>\n",
              "<style scoped>\n",
              "    .dataframe tbody tr th:only-of-type {\n",
              "        vertical-align: middle;\n",
              "    }\n",
              "\n",
              "    .dataframe tbody tr th {\n",
              "        vertical-align: top;\n",
              "    }\n",
              "\n",
              "    .dataframe thead th {\n",
              "        text-align: right;\n",
              "    }\n",
              "</style>\n",
              "<table border=\"1\" class=\"dataframe\">\n",
              "  <thead>\n",
              "    <tr style=\"text-align: right;\">\n",
              "      <th></th>\n",
              "      <th>date</th>\n",
              "      <th>sp500 open</th>\n",
              "      <th>sp500 high</th>\n",
              "      <th>sp500 low</th>\n",
              "      <th>sp500 close</th>\n",
              "      <th>sp500 volume</th>\n",
              "      <th>sp500 high-low</th>\n",
              "      <th>nasdaq open</th>\n",
              "      <th>nasdaq high</th>\n",
              "      <th>nasdaq low</th>\n",
              "      <th>...</th>\n",
              "      <th>palladium high</th>\n",
              "      <th>palladium low</th>\n",
              "      <th>palladium close</th>\n",
              "      <th>palladium volume</th>\n",
              "      <th>palladium high-low</th>\n",
              "      <th>gold open</th>\n",
              "      <th>gold high</th>\n",
              "      <th>gold low</th>\n",
              "      <th>gold close</th>\n",
              "      <th>gold volume</th>\n",
              "    </tr>\n",
              "  </thead>\n",
              "  <tbody>\n",
              "    <tr>\n",
              "      <th>0</th>\n",
              "      <td>2010-01-14</td>\n",
              "      <td>114.49</td>\n",
              "      <td>115.14</td>\n",
              "      <td>114.42</td>\n",
              "      <td>114.93</td>\n",
              "      <td>115646960.0</td>\n",
              "      <td>0.72</td>\n",
              "      <td>46.26</td>\n",
              "      <td>46.520</td>\n",
              "      <td>46.22</td>\n",
              "      <td>...</td>\n",
              "      <td>45.02</td>\n",
              "      <td>43.86</td>\n",
              "      <td>44.84</td>\n",
              "      <td>364528.0</td>\n",
              "      <td>1.16</td>\n",
              "      <td>111.51</td>\n",
              "      <td>112.37</td>\n",
              "      <td>110.79</td>\n",
              "      <td>112.03</td>\n",
              "      <td>18305238.0</td>\n",
              "    </tr>\n",
              "    <tr>\n",
              "      <th>1</th>\n",
              "      <td>2010-01-15</td>\n",
              "      <td>114.73</td>\n",
              "      <td>114.84</td>\n",
              "      <td>113.20</td>\n",
              "      <td>113.64</td>\n",
              "      <td>212252769.0</td>\n",
              "      <td>1.64</td>\n",
              "      <td>46.46</td>\n",
              "      <td>46.550</td>\n",
              "      <td>45.65</td>\n",
              "      <td>...</td>\n",
              "      <td>45.76</td>\n",
              "      <td>44.40</td>\n",
              "      <td>45.76</td>\n",
              "      <td>442210.0</td>\n",
              "      <td>1.36</td>\n",
              "      <td>111.35</td>\n",
              "      <td>112.01</td>\n",
              "      <td>110.38</td>\n",
              "      <td>110.86</td>\n",
              "      <td>18000724.0</td>\n",
              "    </tr>\n",
              "    <tr>\n",
              "      <th>2</th>\n",
              "      <td>2010-01-18</td>\n",
              "      <td>NaN</td>\n",
              "      <td>NaN</td>\n",
              "      <td>NaN</td>\n",
              "      <td>NaN</td>\n",
              "      <td>NaN</td>\n",
              "      <td>NaN</td>\n",
              "      <td>NaN</td>\n",
              "      <td>NaN</td>\n",
              "      <td>NaN</td>\n",
              "      <td>...</td>\n",
              "      <td>NaN</td>\n",
              "      <td>NaN</td>\n",
              "      <td>NaN</td>\n",
              "      <td>NaN</td>\n",
              "      <td>NaN</td>\n",
              "      <td>NaN</td>\n",
              "      <td>NaN</td>\n",
              "      <td>NaN</td>\n",
              "      <td>NaN</td>\n",
              "      <td>NaN</td>\n",
              "    </tr>\n",
              "    <tr>\n",
              "      <th>3</th>\n",
              "      <td>2010-01-19</td>\n",
              "      <td>113.62</td>\n",
              "      <td>115.13</td>\n",
              "      <td>113.59</td>\n",
              "      <td>115.06</td>\n",
              "      <td>138671890.0</td>\n",
              "      <td>1.54</td>\n",
              "      <td>45.96</td>\n",
              "      <td>46.640</td>\n",
              "      <td>45.95</td>\n",
              "      <td>...</td>\n",
              "      <td>47.08</td>\n",
              "      <td>45.70</td>\n",
              "      <td>46.94</td>\n",
              "      <td>629150.0</td>\n",
              "      <td>1.38</td>\n",
              "      <td>110.95</td>\n",
              "      <td>111.75</td>\n",
              "      <td>110.83</td>\n",
              "      <td>111.52</td>\n",
              "      <td>10467927.0</td>\n",
              "    </tr>\n",
              "    <tr>\n",
              "      <th>4</th>\n",
              "      <td>2010-01-20</td>\n",
              "      <td>114.28</td>\n",
              "      <td>114.45</td>\n",
              "      <td>112.98</td>\n",
              "      <td>113.89</td>\n",
              "      <td>216330645.0</td>\n",
              "      <td>1.47</td>\n",
              "      <td>46.27</td>\n",
              "      <td>46.604</td>\n",
              "      <td>45.43</td>\n",
              "      <td>...</td>\n",
              "      <td>47.31</td>\n",
              "      <td>45.17</td>\n",
              "      <td>47.05</td>\n",
              "      <td>643198.0</td>\n",
              "      <td>2.14</td>\n",
              "      <td>109.97</td>\n",
              "      <td>110.05</td>\n",
              "      <td>108.46</td>\n",
              "      <td>108.94</td>\n",
              "      <td>17534231.0</td>\n",
              "    </tr>\n",
              "  </tbody>\n",
              "</table>\n",
              "<p>5 rows × 47 columns</p>\n",
              "</div>\n",
              "    <div class=\"colab-df-buttons\">\n",
              "\n",
              "  <div class=\"colab-df-container\">\n",
              "    <button class=\"colab-df-convert\" onclick=\"convertToInteractive('df-eec84d9c-c081-484b-8767-916ab3952278')\"\n",
              "            title=\"Convert this dataframe to an interactive table.\"\n",
              "            style=\"display:none;\">\n",
              "\n",
              "  <svg xmlns=\"http://www.w3.org/2000/svg\" height=\"24px\" viewBox=\"0 -960 960 960\">\n",
              "    <path d=\"M120-120v-720h720v720H120Zm60-500h600v-160H180v160Zm220 220h160v-160H400v160Zm0 220h160v-160H400v160ZM180-400h160v-160H180v160Zm440 0h160v-160H620v160ZM180-180h160v-160H180v160Zm440 0h160v-160H620v160Z\"/>\n",
              "  </svg>\n",
              "    </button>\n",
              "\n",
              "  <style>\n",
              "    .colab-df-container {\n",
              "      display:flex;\n",
              "      gap: 12px;\n",
              "    }\n",
              "\n",
              "    .colab-df-convert {\n",
              "      background-color: #E8F0FE;\n",
              "      border: none;\n",
              "      border-radius: 50%;\n",
              "      cursor: pointer;\n",
              "      display: none;\n",
              "      fill: #1967D2;\n",
              "      height: 32px;\n",
              "      padding: 0 0 0 0;\n",
              "      width: 32px;\n",
              "    }\n",
              "\n",
              "    .colab-df-convert:hover {\n",
              "      background-color: #E2EBFA;\n",
              "      box-shadow: 0px 1px 2px rgba(60, 64, 67, 0.3), 0px 1px 3px 1px rgba(60, 64, 67, 0.15);\n",
              "      fill: #174EA6;\n",
              "    }\n",
              "\n",
              "    .colab-df-buttons div {\n",
              "      margin-bottom: 4px;\n",
              "    }\n",
              "\n",
              "    [theme=dark] .colab-df-convert {\n",
              "      background-color: #3B4455;\n",
              "      fill: #D2E3FC;\n",
              "    }\n",
              "\n",
              "    [theme=dark] .colab-df-convert:hover {\n",
              "      background-color: #434B5C;\n",
              "      box-shadow: 0px 1px 3px 1px rgba(0, 0, 0, 0.15);\n",
              "      filter: drop-shadow(0px 1px 2px rgba(0, 0, 0, 0.3));\n",
              "      fill: #FFFFFF;\n",
              "    }\n",
              "  </style>\n",
              "\n",
              "    <script>\n",
              "      const buttonEl =\n",
              "        document.querySelector('#df-eec84d9c-c081-484b-8767-916ab3952278 button.colab-df-convert');\n",
              "      buttonEl.style.display =\n",
              "        google.colab.kernel.accessAllowed ? 'block' : 'none';\n",
              "\n",
              "      async function convertToInteractive(key) {\n",
              "        const element = document.querySelector('#df-eec84d9c-c081-484b-8767-916ab3952278');\n",
              "        const dataTable =\n",
              "          await google.colab.kernel.invokeFunction('convertToInteractive',\n",
              "                                                    [key], {});\n",
              "        if (!dataTable) return;\n",
              "\n",
              "        const docLinkHtml = 'Like what you see? Visit the ' +\n",
              "          '<a target=\"_blank\" href=https://colab.research.google.com/notebooks/data_table.ipynb>data table notebook</a>'\n",
              "          + ' to learn more about interactive tables.';\n",
              "        element.innerHTML = '';\n",
              "        dataTable['output_type'] = 'display_data';\n",
              "        await google.colab.output.renderOutput(dataTable, element);\n",
              "        const docLink = document.createElement('div');\n",
              "        docLink.innerHTML = docLinkHtml;\n",
              "        element.appendChild(docLink);\n",
              "      }\n",
              "    </script>\n",
              "  </div>\n",
              "\n",
              "\n",
              "    <div id=\"df-38d92615-0d37-4d2b-9858-4edecfe67059\">\n",
              "      <button class=\"colab-df-quickchart\" onclick=\"quickchart('df-38d92615-0d37-4d2b-9858-4edecfe67059')\"\n",
              "                title=\"Suggest charts\"\n",
              "                style=\"display:none;\">\n",
              "\n",
              "<svg xmlns=\"http://www.w3.org/2000/svg\" height=\"24px\"viewBox=\"0 0 24 24\"\n",
              "     width=\"24px\">\n",
              "    <g>\n",
              "        <path d=\"M19 3H5c-1.1 0-2 .9-2 2v14c0 1.1.9 2 2 2h14c1.1 0 2-.9 2-2V5c0-1.1-.9-2-2-2zM9 17H7v-7h2v7zm4 0h-2V7h2v10zm4 0h-2v-4h2v4z\"/>\n",
              "    </g>\n",
              "</svg>\n",
              "      </button>\n",
              "\n",
              "<style>\n",
              "  .colab-df-quickchart {\n",
              "      --bg-color: #E8F0FE;\n",
              "      --fill-color: #1967D2;\n",
              "      --hover-bg-color: #E2EBFA;\n",
              "      --hover-fill-color: #174EA6;\n",
              "      --disabled-fill-color: #AAA;\n",
              "      --disabled-bg-color: #DDD;\n",
              "  }\n",
              "\n",
              "  [theme=dark] .colab-df-quickchart {\n",
              "      --bg-color: #3B4455;\n",
              "      --fill-color: #D2E3FC;\n",
              "      --hover-bg-color: #434B5C;\n",
              "      --hover-fill-color: #FFFFFF;\n",
              "      --disabled-bg-color: #3B4455;\n",
              "      --disabled-fill-color: #666;\n",
              "  }\n",
              "\n",
              "  .colab-df-quickchart {\n",
              "    background-color: var(--bg-color);\n",
              "    border: none;\n",
              "    border-radius: 50%;\n",
              "    cursor: pointer;\n",
              "    display: none;\n",
              "    fill: var(--fill-color);\n",
              "    height: 32px;\n",
              "    padding: 0;\n",
              "    width: 32px;\n",
              "  }\n",
              "\n",
              "  .colab-df-quickchart:hover {\n",
              "    background-color: var(--hover-bg-color);\n",
              "    box-shadow: 0 1px 2px rgba(60, 64, 67, 0.3), 0 1px 3px 1px rgba(60, 64, 67, 0.15);\n",
              "    fill: var(--button-hover-fill-color);\n",
              "  }\n",
              "\n",
              "  .colab-df-quickchart-complete:disabled,\n",
              "  .colab-df-quickchart-complete:disabled:hover {\n",
              "    background-color: var(--disabled-bg-color);\n",
              "    fill: var(--disabled-fill-color);\n",
              "    box-shadow: none;\n",
              "  }\n",
              "\n",
              "  .colab-df-spinner {\n",
              "    border: 2px solid var(--fill-color);\n",
              "    border-color: transparent;\n",
              "    border-bottom-color: var(--fill-color);\n",
              "    animation:\n",
              "      spin 1s steps(1) infinite;\n",
              "  }\n",
              "\n",
              "  @keyframes spin {\n",
              "    0% {\n",
              "      border-color: transparent;\n",
              "      border-bottom-color: var(--fill-color);\n",
              "      border-left-color: var(--fill-color);\n",
              "    }\n",
              "    20% {\n",
              "      border-color: transparent;\n",
              "      border-left-color: var(--fill-color);\n",
              "      border-top-color: var(--fill-color);\n",
              "    }\n",
              "    30% {\n",
              "      border-color: transparent;\n",
              "      border-left-color: var(--fill-color);\n",
              "      border-top-color: var(--fill-color);\n",
              "      border-right-color: var(--fill-color);\n",
              "    }\n",
              "    40% {\n",
              "      border-color: transparent;\n",
              "      border-right-color: var(--fill-color);\n",
              "      border-top-color: var(--fill-color);\n",
              "    }\n",
              "    60% {\n",
              "      border-color: transparent;\n",
              "      border-right-color: var(--fill-color);\n",
              "    }\n",
              "    80% {\n",
              "      border-color: transparent;\n",
              "      border-right-color: var(--fill-color);\n",
              "      border-bottom-color: var(--fill-color);\n",
              "    }\n",
              "    90% {\n",
              "      border-color: transparent;\n",
              "      border-bottom-color: var(--fill-color);\n",
              "    }\n",
              "  }\n",
              "</style>\n",
              "\n",
              "      <script>\n",
              "        async function quickchart(key) {\n",
              "          const quickchartButtonEl =\n",
              "            document.querySelector('#' + key + ' button');\n",
              "          quickchartButtonEl.disabled = true;  // To prevent multiple clicks.\n",
              "          quickchartButtonEl.classList.add('colab-df-spinner');\n",
              "          try {\n",
              "            const charts = await google.colab.kernel.invokeFunction(\n",
              "                'suggestCharts', [key], {});\n",
              "          } catch (error) {\n",
              "            console.error('Error during call to suggestCharts:', error);\n",
              "          }\n",
              "          quickchartButtonEl.classList.remove('colab-df-spinner');\n",
              "          quickchartButtonEl.classList.add('colab-df-quickchart-complete');\n",
              "        }\n",
              "        (() => {\n",
              "          let quickchartButtonEl =\n",
              "            document.querySelector('#df-38d92615-0d37-4d2b-9858-4edecfe67059 button');\n",
              "          quickchartButtonEl.style.display =\n",
              "            google.colab.kernel.accessAllowed ? 'block' : 'none';\n",
              "        })();\n",
              "      </script>\n",
              "    </div>\n",
              "\n",
              "    </div>\n",
              "  </div>\n"
            ],
            "application/vnd.google.colaboratory.intrinsic+json": {
              "type": "dataframe",
              "variable_name": "datas"
            }
          },
          "metadata": {},
          "execution_count": 103
        }
      ]
    },
    {
      "cell_type": "code",
      "source": [
        "def plotData(x, y):\n",
        "    \"\"\"\n",
        "    Grafica los puntos de S&P500: apertura (x) vs cierre (y)\n",
        "    \"\"\"\n",
        "\n",
        "    fig = pyplot.figure()  # abre una nueva figura\n",
        "\n",
        "    # 'ro' = puntos rojos, ms = tamaño, mec = borde negro\n",
        "    pyplot.plot(x, y, 'ro', ms=5, mec='k')\n",
        "\n",
        "    pyplot.ylabel('S&P500 Close')\n",
        "    pyplot.xlabel('S&P500 Open')\n",
        "    pyplot.title('Relación entre apertura y cierre del S&P500')"
      ],
      "metadata": {
        "id": "qA5ZjlgdDlxj"
      },
      "execution_count": null,
      "outputs": []
    },
    {
      "cell_type": "code",
      "source": [
        "plotData(X, y)"
      ],
      "metadata": {
        "colab": {
          "base_uri": "https://localhost:8080/",
          "height": 472
        },
        "id": "dUtT3yHfD_-C",
        "outputId": "3effb40d-e35a-45b1-e0b4-d37404e30eb1"
      },
      "execution_count": null,
      "outputs": [
        {
          "output_type": "display_data",
          "data": {
            "text/plain": [
              "<Figure size 640x480 with 1 Axes>"
            ],
            "image/png": "[encoded data removed]"
          },
          "metadata": {}
        }
      ]
    },
    {
      "cell_type": "code",
      "source": [
        "\n",
        "X = np.stack([np.ones(m), X], axis=1)"
      ],
      "metadata": {
        "id": "r8MWr_1bEMsD"
      },
      "execution_count": null,
      "outputs": []
    },
    {
      "cell_type": "code",
      "source": [
        "print(X)"
      ],
      "metadata": {
        "colab": {
          "base_uri": "https://localhost:8080/"
        },
        "id": "Y7txGtctEOM6",
        "outputId": "cb5bd406-21c3-4987-faa7-e6c94db79a5f"
      },
      "execution_count": null,
      "outputs": [
        {
          "output_type": "stream",
          "name": "stdout",
          "text": [
            "[[  1.   114.49]\n",
            " [  1.   114.73]\n",
            " [  1.   113.62]\n",
            " ...\n",
            " [  1.   583.85]\n",
            " [  1.   581.05]\n",
            " [  1.   581.26]]\n"
          ]
        }
      ]
    },
    {
      "cell_type": "code",
      "source": [
        "def calcularCosto(X, y, theta):\n",
        "    # inicializa algunos valores importantes\n",
        "    m = y.size  # numero de ejemplos de entrenamiento\n",
        "\n",
        "    J = 0\n",
        "    # h = np.dot(X, theta)\n",
        "    J = (1/(2 * m)) * np.sum(np.square(np.dot(X, theta) - y))\n",
        "    return J"
      ],
      "metadata": {
        "id": "kOI8JiI4ES5K"
      },
      "execution_count": null,
      "outputs": []
    },
    {
      "cell_type": "code",
      "source": [
        "def gradientDescent(X, y, theta, alpha, num_iters):\n",
        "        # Inicializa algunos valores importantes\n",
        "    m = y.shape[0]  # numero de ejemplos de entrenamiento\n",
        "\n",
        "    # hace una copia de theta, para evitar cambiar la matriz original,\n",
        "    # ya que las matrices numpy se pasan por referencia a las funciones\n",
        "\n",
        "    theta = theta.copy()\n",
        "\n",
        "    J_history = [] # Lista que se utiliza para almacenar el costo en cada iteración\n",
        "\n",
        "    for i in range(num_iters):\n",
        "        theta = theta - (alpha / m) * (np.dot(X, theta) - y).dot(X)\n",
        "        # save the cost J in every iteration\n",
        "        J_history.append(calcularCosto(X, y, theta))\n",
        "\n",
        "    return theta, J_history"
      ],
      "metadata": {
        "id": "6aM2pMpKEXZp"
      },
      "execution_count": null,
      "outputs": []
    },
    {
      "cell_type": "code",
      "source": [
        "# inicializa los parametros de ajuste\n",
        "theta = np.zeros(2)\n",
        "\n",
        "# configuraciones para el descenso por el gradiente\n",
        "iterations = 10\n",
        "\n",
        "alpha = 0.00001\n",
        "\n",
        "theta, J_history = gradientDescent(X ,y, theta, alpha, iterations)\n",
        "print('Theta encontrada por descenso gradiente: {:.4f}, {:.4f}'.format(*theta))\n",
        "print('Valores theta esperados (aproximadamente): [-3.6303, 1.1664]')\n",
        "print(J_history)"
      ],
      "metadata": {
        "colab": {
          "base_uri": "https://localhost:8080/"
        },
        "id": "KO1_59aTErph",
        "outputId": "4acf7419-088b-49ff-80f6-30bccbefdc33"
      },
      "execution_count": null,
      "outputs": [
        {
          "output_type": "stream",
          "name": "stdout",
          "text": [
            "Theta encontrada por descenso gradiente: 0.0031, 1.0001\n",
            "Valores theta esperados (aproximadamente): [-3.6303, 1.1664]\n",
            "[np.float64(743.8049444157417), np.float64(15.425632066610358), np.float64(3.013564313952342), np.float64(2.802054426382229), np.float64(2.798450156482183), np.float64(2.7983887365351308), np.float64(2.7983876891067743), np.float64(2.798387670466279), np.float64(2.7983876693570156), np.float64(2.7983876685465)]\n"
          ]
        }
      ]
    },
    {
      "cell_type": "code",
      "source": [
        "# grafica la linea de ajuste\n",
        "plotData(X[:, 1], y)\n",
        "pyplot.plot(X[:, 1], np.dot(X, theta), '-')\n",
        "pyplot.legend(['Datos de entrenamiento', 'Regresión linear']);"
      ],
      "metadata": {
        "colab": {
          "base_uri": "https://localhost:8080/",
          "height": 472
        },
        "id": "aUeHo2AoFy3J",
        "outputId": "1988475e-cc40-43e8-ad37-f89a6e2c6ea4"
      },
      "execution_count": null,
      "outputs": [
        {
          "output_type": "display_data",
          "data": {
            "text/plain": [
              "<Figure size 640x480 with 1 Axes>"
            ],
            "image/png": "[encoded data removed]"
          },
          "metadata": {}
        }
      ]
    },
    {
      "cell_type": "code",
      "source": [
        "# Supongamos que ya tienes theta = [theta0, theta1] de tu regresión lineal\n",
        "# theta0 = intercepto, theta1 = pendiente\n",
        "\n",
        "# Predicciones del cierre para aperturas específicas\n",
        "predict1 = np.dot([1, 114.5], theta)\n",
        "print('Para S&P500 Open = 114.5, se predice Close = {:.2f}\\n'.format(predict1))\n",
        "\n",
        "predict2 = np.dot([1, 115.0], theta)\n",
        "print('Para S&P500 Open = 115.0, se predice Close = {:.2f}\\n'.format(predict2))\n"
      ],
      "metadata": {
        "colab": {
          "base_uri": "https://localhost:8080/"
        },
        "id": "9UK_NotJF9pA",
        "outputId": "60a278c7-3cf1-437e-fe03-7e479a54b3af"
      },
      "execution_count": null,
      "outputs": [
        {
          "output_type": "stream",
          "name": "stdout",
          "text": [
            "Para S&P500 Open = 114.5, se predice Close = 114.52\n",
            "\n",
            "Para S&P500 Open = 115.0, se predice Close = 115.02\n",
            "\n"
          ]
        }
      ]
    },
    {
      "cell_type": "code",
      "source": [
        "# cuadrícula sobre la que se calcula J\n",
        "theta0_vals = np.linspace(-10, 10, 100)\n",
        "theta1_vals = np.linspace(-1, 4, 100)\n",
        "\n",
        "# inicializa J_vals con una matriz de 0's\n",
        "J_vals = np.zeros((theta0_vals.shape[0], theta1_vals.shape[0]))\n",
        "\n",
        "# Completar J_vals\n",
        "for i, theta0 in enumerate(theta0_vals):\n",
        "    for j, theta1 in enumerate(theta1_vals):\n",
        "        J_vals[i, j] = calcularCosto(X, y, [theta0, theta1])\n",
        "\n",
        "# Debido a la forma en que funcionan las cuadrículas en el comando surf,\n",
        "# se necesita transponer J_vals antes de llamar a surf, o de lo contrario los ejes se invertirán\n",
        "J_vals = J_vals.T\n",
        "\n",
        "\n",
        "\n",
        "# Grafica la convergencia del costo\n",
        "ax = pyplot.subplot(313)\n",
        "pyplot.plot(np.arange(len(J_history)), J_history, lw=2)\n",
        "pyplot.xlabel('Numero de iteraciones')\n",
        "pyplot.ylabel('Costo J')\n",
        "\n",
        "pass"
      ],
      "metadata": {
        "colab": {
          "base_uri": "https://localhost:8080/",
          "height": 188
        },
        "id": "ps5yM1U2HDm5",
        "outputId": "3c70fe1c-e660-4b94-91da-667e50b7553e"
      },
      "execution_count": null,
      "outputs": [
        {
          "output_type": "display_data",
          "data": {
            "text/plain": [
              "<Figure size 640x480 with 1 Axes>"
            ],
            "image/png": "[encoded data removed]"
          },
          "metadata": {}
        }
      ]
    }
  ]
}