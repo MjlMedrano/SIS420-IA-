{
  "nbformat": 4,
  "nbformat_minor": 0,
  "metadata": {
    "colab": {
      "provenance": []
    },
    "kernelspec": {
      "name": "python3",
      "display_name": "Python 3"
    },
    "language_info": {
      "name": "python"
    }
  },
  "cells": [
    {
      "cell_type": "code",
      "execution_count": 4,
      "metadata": {
        "id": "ivHdsA_WFICA"
      },
      "outputs": [],
      "source": [
        "# utilizado para manejos de directorios y rutas\n",
        "import os\n",
        "\n",
        "# Computacion vectorial y cientifica para python\n",
        "import numpy as np\n",
        "import pandas as pd\n",
        "# Librerias para graficación (trazado de gráficos)\n",
        "from matplotlib import pyplot\n",
        "from mpl_toolkits.mplot3d import Axes3D  # Necesario para graficar superficies 3D\n",
        "from sklearn.model_selection import train_test_split\n",
        "# llama a matplotlib a embeber graficas dentro de los cuadernillos\n",
        "%matplotlib inline"
      ]
    },
    {
      "cell_type": "code",
      "source": [
        "from google.colab import drive\n",
        "drive.mount('/content/drive')"
      ],
      "metadata": {
        "colab": {
          "base_uri": "https://localhost:8080/"
        },
        "id": "zxuCWlXWQkPr",
        "outputId": "092dc2c2-54d6-466e-a050-dbf8d2010577"
      },
      "execution_count": 5,
      "outputs": [
        {
          "output_type": "stream",
          "name": "stdout",
          "text": [
            "Drive already mounted at /content/drive; to attempt to forcibly remount, call drive.mount(\"/content/drive\", force_remount=True).\n"
          ]
        }
      ]
    },
    {
      "cell_type": "code",
      "source": [
        "data = pd.read_csv(\"/content/drive/MyDrive/IA/company_esg_financial_dataset.csv\")\n",
        "\n",
        "print(data.select_dtypes(include=['object']).head())"
      ],
      "metadata": {
        "colab": {
          "base_uri": "https://localhost:8080/"
        },
        "id": "H6NRo0XZMl-n",
        "outputId": "aa7a3129-9526-48f6-e695-9d0be9526d67"
      },
      "execution_count": 6,
      "outputs": [
        {
          "output_type": "stream",
          "name": "stdout",
          "text": [
            "  CompanyName Industry         Region\n",
            "0   Company_1   Retail  Latin America\n",
            "1   Company_1   Retail  Latin America\n",
            "2   Company_1   Retail  Latin America\n",
            "3   Company_1   Retail  Latin America\n",
            "4   Company_1   Retail  Latin America\n"
          ]
        }
      ]
    },
    {
      "cell_type": "code",
      "source": [
        "data = data.dropna()\n",
        "data_num = pd.get_dummies(data, drop_first=True)\n",
        ""
      ],
      "metadata": {
        "id": "K0_Pv2hDTRfI"
      },
      "execution_count": 7,
      "outputs": []
    },
    {
      "cell_type": "code",
      "source": [
        "print(data)"
      ],
      "metadata": {
        "colab": {
          "base_uri": "https://localhost:8080/"
        },
        "id": "efmsWb3ZTuUY",
        "outputId": "f1fb84f8-e475-4e47-8bfe-1e26f3943f00"
      },
      "execution_count": 8,
      "outputs": [
        {
          "output_type": "stream",
          "name": "stdout",
          "text": [
            "       CompanyID   CompanyName        Industry         Region  Year  Revenue  \\\n",
            "1              1     Company_1          Retail  Latin America  2016    473.8   \n",
            "2              1     Company_1          Retail  Latin America  2017    564.9   \n",
            "3              1     Company_1          Retail  Latin America  2018    558.4   \n",
            "4              1     Company_1          Retail  Latin America  2019    554.5   \n",
            "5              1     Company_1          Retail  Latin America  2020    567.5   \n",
            "...          ...           ...             ...            ...   ...      ...   \n",
            "10995       1000  Company_1000  Consumer Goods  Latin America  2021   3419.2   \n",
            "10996       1000  Company_1000  Consumer Goods  Latin America  2022   3518.8   \n",
            "10997       1000  Company_1000  Consumer Goods  Latin America  2023   3417.1   \n",
            "10998       1000  Company_1000  Consumer Goods  Latin America  2024   3183.2   \n",
            "10999       1000  Company_1000  Consumer Goods  Latin America  2025   3173.5   \n",
            "\n",
            "       ProfitMargin  MarketCap  GrowthRate  ESG_Overall  ESG_Environmental  \\\n",
            "1               4.6      366.6         3.2         56.7               58.9   \n",
            "2               5.2      313.4        19.2         56.5               57.6   \n",
            "3               4.3      283.0        -1.1         58.0               62.3   \n",
            "4               4.9      538.1        -0.7         56.6               63.7   \n",
            "5               6.0      384.1         2.3         55.7               65.1   \n",
            "...             ...        ...         ...          ...                ...   \n",
            "10995          21.7    14416.7         0.4         52.2               67.2   \n",
            "10996          21.4     8078.9         2.9         51.9               68.7   \n",
            "10997          17.1    13263.4        -2.9         52.9               72.4   \n",
            "10998          15.7     6960.1        -6.8         52.0               72.4   \n",
            "10999          17.5     5666.1        -0.3         51.8               74.5   \n",
            "\n",
            "       ESG_Social  ESG_Governance  CarbonEmissions  WaterUsage  \\\n",
            "1            32.8            78.5          37314.7     18657.4   \n",
            "2            34.0            77.8          45006.4     22503.2   \n",
            "3            33.4            78.3          42650.1     21325.1   \n",
            "4            30.0            76.1          41799.4     20899.7   \n",
            "5            28.5            73.5          42245.4     21122.7   \n",
            "...           ...             ...              ...         ...   \n",
            "10995        46.3            43.1         498875.8    623594.7   \n",
            "10996        44.7            42.3         506013.7    632517.1   \n",
            "10997        43.1            43.2         473561.5    591951.9   \n",
            "10998        40.5            42.9         441310.9    551638.6   \n",
            "10999        39.7            41.4         430741.6    538427.0   \n",
            "\n",
            "       EnergyConsumption  \n",
            "1                74629.4  \n",
            "2                90012.9  \n",
            "3                85300.2  \n",
            "4                83598.8  \n",
            "5                84490.9  \n",
            "...                  ...  \n",
            "10995          2494378.8  \n",
            "10996          2530068.4  \n",
            "10997          2367807.7  \n",
            "10998          2206554.3  \n",
            "10999          2153707.9  \n",
            "\n",
            "[10000 rows x 16 columns]\n"
          ]
        }
      ]
    },
    {
      "cell_type": "code",
      "source": [
        "print(\"Filas originales:\", data.shape[0])\n",
        "print(\"Filas después de dropna:\", data_num.shape[0])"
      ],
      "metadata": {
        "colab": {
          "base_uri": "https://localhost:8080/"
        },
        "id": "WqOQvQoaT2R_",
        "outputId": "9daf7756-daca-4b8e-eb14-db3a73261126"
      },
      "execution_count": 9,
      "outputs": [
        {
          "output_type": "stream",
          "name": "stdout",
          "text": [
            "Filas originales: 10000\n",
            "Filas después de dropna: 10000\n"
          ]
        }
      ]
    },
    {
      "cell_type": "code",
      "source": [
        "print(data_num)"
      ],
      "metadata": {
        "colab": {
          "base_uri": "https://localhost:8080/"
        },
        "id": "CEz_5RAajNpg",
        "outputId": "6731b29d-7e79-4b68-fc76-5ba33c962de2"
      },
      "execution_count": 10,
      "outputs": [
        {
          "output_type": "stream",
          "name": "stdout",
          "text": [
            "       CompanyID  Year  Revenue  ProfitMargin  MarketCap  GrowthRate  \\\n",
            "1              1  2016    473.8           4.6      366.6         3.2   \n",
            "2              1  2017    564.9           5.2      313.4        19.2   \n",
            "3              1  2018    558.4           4.3      283.0        -1.1   \n",
            "4              1  2019    554.5           4.9      538.1        -0.7   \n",
            "5              1  2020    567.5           6.0      384.1         2.3   \n",
            "...          ...   ...      ...           ...        ...         ...   \n",
            "10995       1000  2021   3419.2          21.7    14416.7         0.4   \n",
            "10996       1000  2022   3518.8          21.4     8078.9         2.9   \n",
            "10997       1000  2023   3417.1          17.1    13263.4        -2.9   \n",
            "10998       1000  2024   3183.2          15.7     6960.1        -6.8   \n",
            "10999       1000  2025   3173.5          17.5     5666.1        -0.3   \n",
            "\n",
            "       ESG_Overall  ESG_Environmental  ESG_Social  ESG_Governance  ...  \\\n",
            "1             56.7               58.9        32.8            78.5  ...   \n",
            "2             56.5               57.6        34.0            77.8  ...   \n",
            "3             58.0               62.3        33.4            78.3  ...   \n",
            "4             56.6               63.7        30.0            76.1  ...   \n",
            "5             55.7               65.1        28.5            73.5  ...   \n",
            "...            ...                ...         ...             ...  ...   \n",
            "10995         52.2               67.2        46.3            43.1  ...   \n",
            "10996         51.9               68.7        44.7            42.3  ...   \n",
            "10997         52.9               72.4        43.1            43.2  ...   \n",
            "10998         52.0               72.4        40.5            42.9  ...   \n",
            "10999         51.8               74.5        39.7            41.4  ...   \n",
            "\n",
            "       Industry_Retail  Industry_Technology  Industry_Transportation  \\\n",
            "1                 True                False                    False   \n",
            "2                 True                False                    False   \n",
            "3                 True                False                    False   \n",
            "4                 True                False                    False   \n",
            "5                 True                False                    False   \n",
            "...                ...                  ...                      ...   \n",
            "10995            False                False                    False   \n",
            "10996            False                False                    False   \n",
            "10997            False                False                    False   \n",
            "10998            False                False                    False   \n",
            "10999            False                False                    False   \n",
            "\n",
            "       Industry_Utilities  Region_Asia  Region_Europe  Region_Latin America  \\\n",
            "1                   False        False          False                  True   \n",
            "2                   False        False          False                  True   \n",
            "3                   False        False          False                  True   \n",
            "4                   False        False          False                  True   \n",
            "5                   False        False          False                  True   \n",
            "...                   ...          ...            ...                   ...   \n",
            "10995               False        False          False                  True   \n",
            "10996               False        False          False                  True   \n",
            "10997               False        False          False                  True   \n",
            "10998               False        False          False                  True   \n",
            "10999               False        False          False                  True   \n",
            "\n",
            "       Region_Middle East  Region_North America  Region_Oceania  \n",
            "1                   False                 False           False  \n",
            "2                   False                 False           False  \n",
            "3                   False                 False           False  \n",
            "4                   False                 False           False  \n",
            "5                   False                 False           False  \n",
            "...                   ...                   ...             ...  \n",
            "10995               False                 False           False  \n",
            "10996               False                 False           False  \n",
            "10997               False                 False           False  \n",
            "10998               False                 False           False  \n",
            "10999               False                 False           False  \n",
            "\n",
            "[10000 rows x 1026 columns]\n"
          ]
        }
      ]
    },
    {
      "cell_type": "code",
      "source": [
        "# Convierte todos los valores booleanos a 0 y 1\n",
        "data_num = data_num.astype(int)\n",
        "\n",
        "print(data_num.dtypes.tail())   # revisa que ahora sean int\n",
        "print(data_num.head())"
      ],
      "metadata": {
        "colab": {
          "base_uri": "https://localhost:8080/"
        },
        "id": "m6QXtYKpuMFJ",
        "outputId": "0d8f4355-a732-4288-93dc-dfd765babdfb"
      },
      "execution_count": 11,
      "outputs": [
        {
          "output_type": "stream",
          "name": "stdout",
          "text": [
            "Region_Europe           int64\n",
            "Region_Latin America    int64\n",
            "Region_Middle East      int64\n",
            "Region_North America    int64\n",
            "Region_Oceania          int64\n",
            "dtype: object\n",
            "   CompanyID  Year  Revenue  ProfitMargin  MarketCap  GrowthRate  ESG_Overall  \\\n",
            "1          1  2016      473             4        366           3           56   \n",
            "2          1  2017      564             5        313          19           56   \n",
            "3          1  2018      558             4        283          -1           58   \n",
            "4          1  2019      554             4        538           0           56   \n",
            "5          1  2020      567             6        384           2           55   \n",
            "\n",
            "   ESG_Environmental  ESG_Social  ESG_Governance  ...  Industry_Retail  \\\n",
            "1                 58          32              78  ...                1   \n",
            "2                 57          34              77  ...                1   \n",
            "3                 62          33              78  ...                1   \n",
            "4                 63          30              76  ...                1   \n",
            "5                 65          28              73  ...                1   \n",
            "\n",
            "   Industry_Technology  Industry_Transportation  Industry_Utilities  \\\n",
            "1                    0                        0                   0   \n",
            "2                    0                        0                   0   \n",
            "3                    0                        0                   0   \n",
            "4                    0                        0                   0   \n",
            "5                    0                        0                   0   \n",
            "\n",
            "   Region_Asia  Region_Europe  Region_Latin America  Region_Middle East  \\\n",
            "1            0              0                     1                   0   \n",
            "2            0              0                     1                   0   \n",
            "3            0              0                     1                   0   \n",
            "4            0              0                     1                   0   \n",
            "5            0              0                     1                   0   \n",
            "\n",
            "   Region_North America  Region_Oceania  \n",
            "1                     0               0  \n",
            "2                     0               0  \n",
            "3                     0               0  \n",
            "4                     0               0  \n",
            "5                     0               0  \n",
            "\n",
            "[5 rows x 1026 columns]\n"
          ]
        }
      ]
    },
    {
      "cell_type": "code",
      "source": [
        "# Define features and target\n",
        "X = data_num.drop([\"EnergyConsumption\", \"CompanyID\"], axis=1).values  # Exclude CompanyID and target\n",
        "y = data_num[\"EnergyConsumption\"].values\n",
        "m = y.size"
      ],
      "metadata": {
        "id": "BZq93ksBvpZH"
      },
      "execution_count": 12,
      "outputs": []
    },
    {
      "cell_type": "markdown",
      "source": [],
      "metadata": {
        "id": "qeX71xX8xsmT"
      }
    },
    {
      "cell_type": "code",
      "source": [
        "X_train, X_test, y_train, y_test = train_test_split(X, y, test_size=0.2, random_state=42)\n",
        "m_train = y_train.size  # Number of training examples\n",
        "m_test = y_test.size   # Number of test examples\n",
        "print(\"Training set dimensions:\", X_train.shape)\n",
        "print(\"Test set dimensions:\", X_test.shape)\n",
        "print(\"Target train shape:\", y_train.shape)\n",
        "print(\"Target test shape:\", y_test.shape)"
      ],
      "metadata": {
        "colab": {
          "base_uri": "https://localhost:8080/"
        },
        "id": "1DeYPBFnwJC-",
        "outputId": "fe7bb728-3e53-4e56-8860-e857f6c5bf03"
      },
      "execution_count": 13,
      "outputs": [
        {
          "output_type": "stream",
          "name": "stdout",
          "text": [
            "Training set dimensions: (8000, 1024)\n",
            "Test set dimensions: (2000, 1024)\n",
            "Target train shape: (8000,)\n",
            "Target test shape: (2000,)\n"
          ]
        }
      ]
    },
    {
      "cell_type": "code",
      "source": [
        "# Add polynomial features (degree 2)\n",
        "def add_polynomial_features(X, degree=2):\n",
        "    X_poly = X.copy()\n",
        "    for i in range(X.shape[1]):\n",
        "        X_poly = np.concatenate([X_poly, X[:, i:i+1] ** 2], axis=1)\n",
        "    return X_poly\n",
        "\n",
        "# Apply polynomial features to both train and test sets\n",
        "X_train_poly = add_polynomial_features(X_train)\n",
        "X_test_poly = add_polynomial_features(X_test)\n",
        "print(\"Training shape with polynomial features:\", X_train_poly.shape)\n",
        "print(\"Test shape with polynomial features:\", X_test_poly.shape)"
      ],
      "metadata": {
        "colab": {
          "base_uri": "https://localhost:8080/"
        },
        "id": "R58ZwPAv3ueF",
        "outputId": "b513d7d0-b99e-4670-eda1-1fade6183246"
      },
      "execution_count": 15,
      "outputs": [
        {
          "output_type": "stream",
          "name": "stdout",
          "text": [
            "Training shape with polynomial features: (8000, 2048)\n",
            "Test shape with polynomial features: (2000, 2048)\n"
          ]
        }
      ]
    },
    {
      "cell_type": "code",
      "source": [
        "# Feature normalization\n",
        "def featureNormalize(X):\n",
        "    X_norm = X.copy()\n",
        "    mu = np.mean(X, axis=0)\n",
        "    sigma = np.std(X, axis=0)\n",
        "    # Avoid division by zero\n",
        "    sigma[sigma == 0] = 1\n",
        "    X_norm = (X - mu) / sigma\n",
        "    return X_norm, mu, sigma\n",
        "\n",
        "# Normalize features (use training set statistics for both train and test)\n",
        "X_train_norm, mu, sigma = featureNormalize(X_train_poly)\n",
        "X_test_norm = (X_test_poly - mu) / sigma  # Normalize test set with train statistics\n",
        "print(\"Normalized training features sample:\\n\", X_train_norm[:5])"
      ],
      "metadata": {
        "colab": {
          "base_uri": "https://localhost:8080/"
        },
        "id": "TCgSuXCI4K-G",
        "outputId": "83744586-5353-4ebf-abd1-9b1549d6285e"
      },
      "execution_count": 16,
      "outputs": [
        {
          "output_type": "stream",
          "name": "stdout",
          "text": [
            "Normalized training features sample:\n",
            " [[-1.82836673e-01 -4.34548097e-01 -1.76277765e-01 ... -4.13887756e-01\n",
            "  -4.07861226e-01 -4.20701615e-01]\n",
            " [-1.22886293e+00  1.36187522e-04  7.31420114e-01 ... -4.13887756e-01\n",
            "  -4.07861226e-01 -4.20701615e-01]\n",
            " [-1.57753835e+00 -2.60466355e-01  1.52565576e+00 ... -4.13887756e-01\n",
            "   2.45181433e+00 -4.20701615e-01]\n",
            " [ 8.63189585e-01  1.33652439e-01  2.77571175e-01 ... -4.13887756e-01\n",
            "  -4.07861226e-01 -4.20701615e-01]\n",
            " [ 1.56054042e+00 -3.03112126e-01 -1.08397564e+00 ... -4.13887756e-01\n",
            "   2.45181433e+00 -4.20701615e-01]]\n"
          ]
        }
      ]
    },
    {
      "cell_type": "code",
      "source": [
        "# Add intercept term\n",
        "X_train_norm = np.concatenate([np.ones((m_train, 1)), X_train_norm], axis=1)\n",
        "X_test_norm = np.concatenate([np.ones((m_test, 1)), X_test_norm], axis=1)\n",
        "print(\"Training shape with intercept term:\", X_train_norm.shape)\n",
        "print(\"Test shape with intercept term:\", X_test_norm.shape)"
      ],
      "metadata": {
        "colab": {
          "base_uri": "https://localhost:8080/"
        },
        "id": "B-xgoWub6YbM",
        "outputId": "8329ee5d-7ed2-4d33-841e-161200ce2c6d"
      },
      "execution_count": 17,
      "outputs": [
        {
          "output_type": "stream",
          "name": "stdout",
          "text": [
            "Training shape with intercept term: (8000, 2049)\n",
            "Test shape with intercept term: (2000, 2049)\n"
          ]
        }
      ]
    },
    {
      "cell_type": "code",
      "source": [
        "# Cost function for multiple features\n",
        "def computeCostMulti(X, y, theta):\n",
        "    m = y.shape[0]\n",
        "    h = np.dot(X, theta)\n",
        "    J = (1 / (2 * m)) * np.sum(np.square(h - y))\n",
        "    return J"
      ],
      "metadata": {
        "id": "6QfQmNbx6f35"
      },
      "execution_count": 18,
      "outputs": []
    },
    {
      "cell_type": "code",
      "source": [
        "# Gradient descent for multiple features\n",
        "def gradientDescentMulti(X, y, theta, alpha, num_iters):\n",
        "    m = y.shape[0]\n",
        "    theta = theta.copy()\n",
        "    J_history = []\n",
        "\n",
        "    for i in range(num_iters):\n",
        "        h = np.dot(X, theta)\n",
        "        theta = theta - (alpha / m) * np.dot((h - y), X)\n",
        "        J_history.append(computeCostMulti(X, y, theta))\n",
        "\n",
        "    return theta, J_history"
      ],
      "metadata": {
        "id": "8lE4tHez6jbj"
      },
      "execution_count": 19,
      "outputs": []
    },
    {
      "cell_type": "code",
      "source": [
        "# Train the model\n",
        "alpha = 0.001  # Learning rate\n",
        "num_iters = 10000  # Number of iterations\n",
        "thetaPol = np.zeros(X_train_norm.shape[1])  # Initialize theta\n",
        "thetaPol, J_history = gradientDescentMulti(X_train_norm, y_train, thetaPol, alpha, num_iters)"
      ],
      "metadata": {
        "id": "QlyBQpna6m8t"
      },
      "execution_count": 21,
      "outputs": []
    },
    {
      "cell_type": "code",
      "source": [
        "import matplotlib.pyplot as plt\n",
        "plt.figure()\n",
        "plt.plot(np.arange(len(J_history)), J_history, lw=2)\n",
        "plt.xlabel('numero de iteraciones')\n",
        "plt.ylabel('Cost J')\n",
        "plt.title('Convergence of Gradient Descent')\n",
        "plt.show()\n"
      ],
      "metadata": {
        "colab": {
          "base_uri": "https://localhost:8080/",
          "height": 472
        },
        "id": "KeCTI0bZ86QW",
        "outputId": "84a59fbd-5017-47a2-9307-60a70b35b2bb"
      },
      "execution_count": 24,
      "outputs": [
        {
          "output_type": "display_data",
          "data": {
            "text/plain": [
              "<Figure size 640x480 with 1 Axes>"
            ],
            "image/png": "[encoded data removed]"
          },
          "metadata": {}
        }
      ]
    }
  ]
}